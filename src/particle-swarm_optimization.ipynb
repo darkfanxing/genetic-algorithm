{
 "cells": [
  {
   "cell_type": "code",
   "execution_count": 1,
   "id": "d73ab227",
   "metadata": {},
   "outputs": [],
   "source": [
    "from functions.get_function_setting import get_function_setting\n",
    "from algorithms import ParticleSwarmOptimization\n",
    "from numpy import mean, median, std"
   ]
  },
  {
   "cell_type": "code",
   "execution_count": 2,
   "id": "c7151cd1",
   "metadata": {},
   "outputs": [
    {
     "name": "stdout",
     "output_type": "stream",
     "text": [
      "--------------------\n",
      "Average Fitness: 40.83471120890488\n",
      "Median Fitness: 39.796340497426414\n",
      "Average solution: [[-0.45377499  0.45668908 -0.19997775 ...  0.40040769  0.43106821\n",
      "  -0.16958743]\n",
      " [ 0.10933697  0.3365329  -0.43444667 ...  0.08722061  0.14351025\n",
      "  -0.53288747]\n",
      " [-0.11195963  0.01718143 -0.51056645 ...  0.28738596  0.27248322\n",
      "   0.08529428]\n",
      " ...\n",
      " [ 0.00983138  0.3433007  -0.37320309 ...  0.15302858  0.08836479\n",
      "  -0.25680881]\n",
      " [ 0.07595688  0.66595799 -0.60105159 ...  0.29080785  0.17784823\n",
      "  -0.08821199]\n",
      " [ 0.41592795  0.1565873  -0.18382615 ...  0.4056404   0.09037022\n",
      "  -0.14967919]]\n",
      "Standard Deviation of solution: [[2.15746215 2.07970098 1.84593775 ... 1.79617472 1.87504069 1.90147473]\n",
      " [2.15260109 2.25037871 2.0741646  ... 1.55866125 2.02860575 1.80913802]\n",
      " [1.91696435 1.92482544 2.3913614  ... 1.9145382  1.97177814 2.03955188]\n",
      " ...\n",
      " [2.23968433 1.96226381 2.26772653 ... 1.74097349 2.05416867 2.28046419]\n",
      " [2.06456463 2.02082555 2.3415392  ... 2.07337923 2.02822468 1.77323433]\n",
      " [2.11005717 1.87931509 2.15464782 ... 2.16351588 2.17550207 2.36089155]]\n"
     ]
    }
   ],
   "source": [
    "# number_iteration: 500\n",
    "for number in range(1, 7+1, 1):\n",
    "    function_setting = get_function_setting(number)\n",
    "\n",
    "    # parameter setting\n",
    "    number_iteration = 500\n",
    "    number_particle = 50\n",
    "    boundaries = [function_setting[\"boundary\"]] * function_setting[\"dimension\"]\n",
    "\n",
    "    best_fitnesses = []\n",
    "    solutions = []\n",
    "    for _ in range(50):\n",
    "        particle_swarm_optimization = \\\n",
    "            ParticleSwarmOptimization(\n",
    "                function_setting[\"function\"],\n",
    "                boundaries,\n",
    "                number_iteration,\n",
    "                number_particle,\n",
    "                exploration_acceleration=1,\n",
    "                exploitation_acceleration=1\n",
    "            )\n",
    "\n",
    "        particle_swarm_optimization.optimize()\n",
    "        best_fitnesses.append(particle_swarm_optimization.best_fitness) # PSO best fitness\n",
    "        solutions.append([particle_swarm_optimization.particles[index].position for index in range(number_particle)])\n",
    "\n",
    "\n",
    "    # print(f\"Best fitness of function {number} is: {min(best_fitnesses)}\")\n",
    "    print(\"-\" * 20)\n",
    "    print(f\"Average Fitness: {mean(best_fitnesses)}\")\n",
    "    print(f\"Median Fitness: {median(best_fitnesses)}\")\n",
    "    print(f\"Average solution: {mean(solutions, axis=0)}\")\n",
    "    print(f\"Standard Deviation of solution: {std(solutions ,axis=0)}\")"
   ]
  }
 ],
 "metadata": {
  "kernelspec": {
   "display_name": "Python 3 (ipykernel)",
   "language": "python",
   "name": "python3"
  },
  "language_info": {
   "codemirror_mode": {
    "name": "ipython",
    "version": 3
   },
   "file_extension": ".py",
   "mimetype": "text/x-python",
   "name": "python",
   "nbconvert_exporter": "python",
   "pygments_lexer": "ipython3",
   "version": "3.9.7"
  }
 },
 "nbformat": 4,
 "nbformat_minor": 5
}
